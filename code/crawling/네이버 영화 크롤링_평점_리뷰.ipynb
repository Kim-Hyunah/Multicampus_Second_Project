{
 "cells": [
  {
   "cell_type": "code",
   "execution_count": 23,
   "id": "ce161a6e",
   "metadata": {},
   "outputs": [],
   "source": [
    "import re\n",
    "import pandas as pd\n",
    "from bs4 import BeautifulSoup\n",
    "from selenium import webdriver\n",
    "from selenium.webdriver.common.keys import Keys\n",
    "import time\n",
    "from selenium.webdriver.chrome.service import Service as ChromeService\n",
    "from webdriver_manager.chrome import ChromeDriverManager"
   ]
  },
  {
   "cell_type": "code",
   "execution_count": 24,
   "id": "b649adf8",
   "metadata": {
    "scrolled": true
   },
   "outputs": [
    {
     "name": "stderr",
     "output_type": "stream",
     "text": [
      "C:\\Users\\hyha1\\AppData\\Local\\Temp\\ipykernel_4268\\732588533.py:2: DeprecationWarning: executable_path has been deprecated, please pass in a Service object\n",
      "  driver = webdriver.Chrome(\"./chromedriver.exe\")\n"
     ]
    }
   ],
   "source": [
    "#범죄도시2 평점 및 리뷰\n",
    "driver = webdriver.Chrome(\"./chromedriver.exe\")\n",
    "driver.get(\"https://movie.naver.com/movie/bi/mi/pointWriteFormList.naver?code=45290&type=after&isActualPointWriteExecute=false&isMileageSubscriptionAlready=false&isMileageSubscriptionReject=false\")\n",
    "driver.implicitly_wait(3)"
   ]
  },
  {
   "cell_type": "code",
   "execution_count": 25,
   "id": "74c0c163",
   "metadata": {},
   "outputs": [],
   "source": [
    "import requests as req\n",
    "from bs4 import BeautifulSoup as bs"
   ]
  },
  {
   "cell_type": "code",
   "execution_count": 26,
   "id": "e0ece7a6",
   "metadata": {},
   "outputs": [],
   "source": [
    "res = req.get('https://movie.naver.com/movie/bi/mi/pointWriteFormList.naver?code=192608&type=after&isActualPointWriteExecute=false&isMileageSubscriptionAlready=false&isMileageSubscriptionReject=false')"
   ]
  },
  {
   "cell_type": "code",
   "execution_count": 27,
   "id": "6b14ecda",
   "metadata": {},
   "outputs": [
    {
     "data": {
      "text/plain": [
       "[<em>10</em>]"
      ]
     },
     "execution_count": 27,
     "metadata": {},
     "output_type": "execute_result"
    }
   ],
   "source": [
    "soup = bs(res.text, 'lxml')\n",
    "# 관람객 평점\n",
    "soup.select('body > div > div > div.score_result > ul > li:nth-child(4) > div.star_score > em')"
   ]
  },
  {
   "cell_type": "code",
   "execution_count": 28,
   "id": "344af8fd",
   "metadata": {},
   "outputs": [],
   "source": [
    "# for rev in soup: \n",
    "#     rev_lst = []\n",
    "#     score = soup.select('div.list_netizen_score > em')\n",
    "#     comment = soup.select('#_unfold_ment0 > a')"
   ]
  },
  {
   "cell_type": "code",
   "execution_count": 29,
   "id": "a32a56ad",
   "metadata": {},
   "outputs": [
    {
     "data": {
      "text/plain": [
       "[<em>2</em>,\n",
       " <em>6</em>,\n",
       " <em>5</em>,\n",
       " <em>2</em>,\n",
       " <em>2</em>,\n",
       " <em>4</em>,\n",
       " <em>1</em>,\n",
       " <em>4</em>,\n",
       " <em>1</em>,\n",
       " <em>1</em>]"
      ]
     },
     "execution_count": 29,
     "metadata": {},
     "output_type": "execute_result"
    }
   ],
   "source": [
    "# 관람객 평점 하나 확인\n",
    "score"
   ]
  },
  {
   "cell_type": "code",
   "execution_count": 30,
   "id": "bf0d6e40",
   "metadata": {},
   "outputs": [
    {
     "data": {
      "text/plain": [
       "[<em>10</em>,\n",
       " <em>10</em>,\n",
       " <em>8</em>,\n",
       " <em>10</em>,\n",
       " <em>9</em>,\n",
       " <em>10</em>,\n",
       " <em>10</em>,\n",
       " <em>10</em>,\n",
       " <em>10</em>,\n",
       " <em>8</em>]"
      ]
     },
     "execution_count": 30,
     "metadata": {},
     "output_type": "execute_result"
    }
   ],
   "source": [
    "# 별점 여러개 나오는지 확인\n",
    "soup.select('div.star_score > em')"
   ]
  },
  {
   "cell_type": "code",
   "execution_count": 31,
   "id": "1cfb7c5a",
   "metadata": {
    "scrolled": true
   },
   "outputs": [
    {
     "name": "stdout",
     "output_type": "stream",
     "text": [
      "<class 'pandas.core.frame.DataFrame'>\n",
      "RangeIndex: 27134 entries, 0 to 27133\n",
      "Data columns (total 2 columns):\n",
      " #   Column   Non-Null Count  Dtype \n",
      "---  ------   --------------  ----- \n",
      " 0   score    27134 non-null  object\n",
      " 1   comment  27134 non-null  object\n",
      "dtypes: object(2)\n",
      "memory usage: 424.1+ KB\n",
      "데이터프레임 변수 저장 완료\n",
      " None\n",
      "저장 완료!\n",
      "\n"
     ]
    }
   ],
   "source": [
    "# 영화별로 링크 변경해줘야하고, range 범위 안에 영화페이지 번호 +1 해서 넣어주기\n",
    "# 저장 이름 변경 필수 \n",
    "\n",
    "review_list, score_list = [], []\n",
    "\n",
    "for i in range(1,2715):\n",
    "    res = req.get('https://movie.naver.com/movie/bi/mi/pointWriteFormList.naver?code=194196&type=after&isActualPointWriteExecute=false&isMileageSubscriptionAlready=false&isMileageSubscriptionReject=false&page='+str(i))\n",
    "    soup = bs(res.text, 'lxml')\n",
    "    viewer = soup.select('span.ico_viewer')\n",
    "    for i in viewer:\n",
    "        i.extract() #제거하기\n",
    "    review = soup.select(\"div.score_reple>p\")\n",
    "    score = soup.select('div.star_score > em')\n",
    "    #score = rev.select_one('div.list_netizen_score > em')\n",
    "    for i in review:\n",
    "        i.text.strip()\n",
    "    for i in score:\n",
    "        i.text.strip()\n",
    "    \n",
    "    #리스트에 쌓기\n",
    "    for j in range(len(review)):\n",
    "        review_list.append(review[j].text.strip())\n",
    "        score_list.append(score[j].text.strip())\n",
    "    \n",
    "# 데이터프레임 생성\n",
    "result = pd.DataFrame(columns=[\"score\", \"comment\", ])\n",
    "    \n",
    "# 결과를 데이터프레임 변수 result에 저장\n",
    "result[\"comment\"] = review_list\n",
    "result[\"score\"] = score_list\n",
    "print(\"데이터프레임 변수 저장 완료\\n\", result.info())\n",
    "\n",
    "    #  result를 csv파일로 저장\n",
    "result.to_csv(\"한산_네이버평점 크롤링.csv\", index = False, encoding='utf-8-sig')\n",
    "print(\"저장 완료!\\n\")"
   ]
  },
  {
   "cell_type": "code",
   "execution_count": null,
   "id": "cc9fd294",
   "metadata": {},
   "outputs": [],
   "source": [
    "# 영화별 링크입니다 \n",
    "# 범죄도시  : https://movie.naver.com/movie/bi/mi/pointWriteFormList.naver?code=192608&type=after&isActualPointWriteExecute=false&isMileageSubscriptionAlready=false&isMileageSubscriptionReject=false&page=\n",
    "# 뜨거운 피 : https://movie.naver.com/movie/bi/mi/pointWriteFormList.naver?code=183862&type=after&isActualPointWriteExecute=false&isMileageSubscriptionAlready=false&isMileageSubscriptionReject=false&page=\n",
    "# 늑대사냥 :  https://movie.naver.com/movie/bi/mi/pointWriteFormList.naver?code=211161&type=after&isActualPointWriteExecute=false&isMileageSubscriptionAlready=false&isMileageSubscriptionReject=false&page=\n",
    "# 공조2 : https://movie.naver.com/movie/bi/mi/pointWriteFormList.naver?code=201641&type=after&isActualPointWriteExecute=false&isMileageSubscriptionAlready=false&isMileageSubscriptionReject=false&page=\n",
    "# 외계+인1부 : https://movie.naver.com/movie/bi/mi/pointWriteFormList.naver?code=192151&type=after&isActualPointWriteExecute=false&isMileageSubscriptionAlready=false&isMileageSubscriptionReject=false&page=\n",
    "# 한산 : https://movie.naver.com/movie/bi/mi/pointWriteFormList.naver?code=194196&type=after&isActualPointWriteExecute=false&isMileageSubscriptionAlready=false&isMileageSubscriptionReject=false&page=\n",
    "#범죄도시2 : https://movie.naver.com/movie/bi/mi/pointWriteFormList.naver?code=192608&type=after&isActualPointWriteExecute=false&isMileageSubscriptionAlready=false&isMileageSubscriptionReject=false&page="
   ]
  },
  {
   "cell_type": "code",
   "execution_count": null,
   "id": "32e39656",
   "metadata": {},
   "outputs": [],
   "source": []
  }
 ],
 "metadata": {
  "kernelspec": {
   "display_name": "Python 3 (ipykernel)",
   "language": "python",
   "name": "python3"
  },
  "language_info": {
   "codemirror_mode": {
    "name": "ipython",
    "version": 3
   },
   "file_extension": ".py",
   "mimetype": "text/x-python",
   "name": "python",
   "nbconvert_exporter": "python",
   "pygments_lexer": "ipython3",
   "version": "3.9.12"
  }
 },
 "nbformat": 4,
 "nbformat_minor": 5
}
