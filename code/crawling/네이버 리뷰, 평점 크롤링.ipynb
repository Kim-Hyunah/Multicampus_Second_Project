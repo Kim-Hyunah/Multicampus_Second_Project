{
 "cells": [
  {
   "cell_type": "code",
   "execution_count": null,
   "id": "2a795515",
   "metadata": {},
   "outputs": [],
   "source": [
    "import requests\n",
    "from bs4 import BeautifulSoup\n",
    "import time\n",
    "import pandas as pd"
   ]
  },
  {
   "cell_type": "code",
   "execution_count": null,
   "id": "804e6f36",
   "metadata": {},
   "outputs": [],
   "source": [
    "url = f'https://movie.naver.com///movie/bi/mi/pointWriteFormList.naver?code=211161&type=after&isActualPointWriteExecute=false&isMileageSubscriptionAlready=false&isMileageSubscriptionReject=false&page=2'\n",
    "html = requests.get(url)\n",
    "soup = BeautifulSoup(html.text, 'html.parser')\n",
    "reviews = soup.select('div.star_score > em')"
   ]
  },
  {
   "cell_type": "code",
   "execution_count": null,
   "id": "1c0f180d",
   "metadata": {},
   "outputs": [],
   "source": [
    "len(reviews)"
   ]
  },
  {
   "cell_type": "code",
   "execution_count": null,
   "id": "1a8be036",
   "metadata": {},
   "outputs": [],
   "source": [
    "reviews[0].text"
   ]
  },
  {
   "cell_type": "code",
   "execution_count": null,
   "id": "a2d9f502",
   "metadata": {},
   "outputs": [],
   "source": [
    "reviews[-1].text.replace('\\n관람객','').replace('\\t','').replace('\\n','').replace('\\r','').strip()"
   ]
  },
  {
   "cell_type": "code",
   "execution_count": null,
   "id": "8ccb00de",
   "metadata": {},
   "outputs": [],
   "source": [
    "review_list, score_list = [], []\n",
    "for i in range(2):\n",
    "    url = f'https://movie.naver.com///movie/bi/mi/pointWriteFormList.naver?code=211161&type=after&isActualPointWriteExecute=false&isMileageSubscriptionAlready=false&isMileageSubscriptionReject=false&page={i}'\n",
    "    html = requests.get(url)\n",
    "    soup = BeautifulSoup(html.text, 'html.parser')\n",
    "    reviews = soup.select('div.score_reple > p')\n",
    "    stars = soup.select('div.star_score > em')\n",
    "    \n",
    "    for j in range(len(reviews)):\n",
    "        review = reviews[j].text.replace('\\n관람객','').replace('\\t','').replace('\\n','').replace('\\r','').strip()\n",
    "        review_list.append(review)\n",
    "        score_list.append(stars[j].texts)\n",
    "        \n",
    "    "
   ]
  },
  {
   "cell_type": "code",
   "execution_count": null,
   "id": "bcf0b1bc",
   "metadata": {},
   "outputs": [],
   "source": [
    "review_list"
   ]
  },
  {
   "cell_type": "code",
   "execution_count": null,
   "id": "f5a55bb0",
   "metadata": {},
   "outputs": [],
   "source": []
  }
 ],
 "metadata": {
  "kernelspec": {
   "display_name": "Python 3 (ipykernel)",
   "language": "python",
   "name": "python3"
  },
  "language_info": {
   "codemirror_mode": {
    "name": "ipython",
    "version": 3
   },
   "file_extension": ".py",
   "mimetype": "text/x-python",
   "name": "python",
   "nbconvert_exporter": "python",
   "pygments_lexer": "ipython3",
   "version": "3.7.9"
  }
 },
 "nbformat": 4,
 "nbformat_minor": 5
}
