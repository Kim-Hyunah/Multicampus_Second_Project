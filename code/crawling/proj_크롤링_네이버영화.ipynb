{
 "cells": [
  {
   "cell_type": "code",
   "execution_count": 1,
   "metadata": {
    "colab": {
     "base_uri": "https://localhost:8080/"
    },
    "executionInfo": {
     "elapsed": 17492,
     "status": "ok",
     "timestamp": 1666228064916,
     "user": {
      "displayName": "hyoson heo",
      "userId": "18070894924019797882"
     },
     "user_tz": -540
    },
    "id": "lzvaj-J07Sz4",
    "outputId": "f7df1eb3-8de7-444e-f204-8569e4898827"
   },
   "outputs": [
    {
     "name": "stdout",
     "output_type": "stream",
     "text": [
      "Mounted at /content/drive\n"
     ]
    }
   ],
   "source": [
    "from google.colab import drive\n",
    "drive.mount('/content/drive')"
   ]
  },
  {
   "cell_type": "code",
   "execution_count": null,
   "metadata": {
    "id": "lIYdn1woOS1n"
   },
   "outputs": [],
   "source": [
    "\n",
    "def get_reviews(movienm, filename=\"\", pagenum=10) :\n",
    "\n",
    "    print(\"크롤링 시작!\")\n",
    "\n",
    "    from selenium import webdriver\n",
    "    from selenium.webdriver.common.by import By\n",
    "    import time\n",
    "    import pandas as pd\n",
    "\n",
    "    # 요건 신경쓰지 말것.\n",
    "    # from selenium.webdriver.chrome.options import Options\n",
    "    # option = Options()\n",
    "    # option.add_experimental_option('excludeSwitches', ['enable-logging'])\n",
    "    # option.add_argument('--remote-debugging-port=9222')\n",
    "\n",
    "    # 최종 결과물을 담을 변수 생성\n",
    "    result = pd.DataFrame(columns=[\"score\", \"likes\", \"comment\"])\n",
    "\n",
    "    #  네이버영화 url 접속\n",
    "    #  (크롬드라이버 경로는 본인 환경에 맞게 알아서 설정하시길!)\n",
    "    driver = webdriver.Chrome(executable_path='chromedriver.exe')\n",
    "    driver.get(\"https://movie.naver.com/\")  \n",
    "\n",
    "    #  영화명 검색\n",
    "    search_box = driver.find_element(By.CSS_SELECTOR, \"#ipt_tx_srch\")\n",
    "    search_box.clear()\n",
    "    search_box.send_keys(movienm)\n",
    "    driver.find_element(By.CSS_SELECTOR, \"#jSearchArea > div > button\").click()\n",
    "\n",
    "    #  영화 링크 타고 들어가기\n",
    "    movie_href = driver.find_element(By.CSS_SELECTOR, \"#old_content > ul.search_list_1 > li:first-child\")\n",
    "    movie_href = movie_href.find_element(By.CSS_SELECTOR, \"dl>dt>a\").click()\n",
    "\n",
    "    #  '평점' 탭 클릭\n",
    "    driver.find_element(By.CSS_SELECTOR, \"#movieEndTabMenu > li:nth-child(5) > a\").click()\n",
    "    time.sleep(0.5)\n",
    "\n",
    "    #  '관람객 평점만 보기' 체크박스 클릭\n",
    "    iframe = driver.find_element(By.CSS_SELECTOR, \"#pointAfterListIframe\")\n",
    "    driver.switch_to.frame(iframe)\n",
    "    driver.find_element(By.CSS_SELECTOR, \"#actualYnLable\").click()\n",
    "    time.sleep(0.5)\n",
    "\n",
    "    #  해당 페이지의 리뷰들 스크래핑 : 평점, 좋아요수, 감상평\n",
    "    score = [] # 평점\n",
    "    likes = [] # 좋아요 수\n",
    "    comment = [] # 감상평\n",
    "    page = 1 # 현재 크롤링할 페이지\n",
    "\n",
    "    # 매개변수로 지정한 크롤링 페이지가 전체 페이지수보다 많을때 보정\n",
    "    comment_num = driver.find_element(By.CSS_SELECTOR, \"div.score_total > strong > em\").text.replace(\",\",\"\")\n",
    "    max_page = int(comment_num) // 10\n",
    "    if pagenum > max_page :\n",
    "        pagenum = max_page\n",
    "\n",
    "    # 본격적인 스크래핑 시작\n",
    "    while page < pagenum :\n",
    "        reviews = driver.find_elements(By.CSS_SELECTOR, \"body > div > div > div.score_result > ul > li\")\n",
    "        idx = 0  # 현재 페이지에서 크롤링할 감상평 인덱스 값\n",
    "\n",
    "        for review in reviews :\n",
    "            # 평점\n",
    "            score.append(review.find_element(By.CSS_SELECTOR, \"div.star_score > em\").text)\n",
    "            # 좋아요 수\n",
    "            likes.append(review.find_element(By.CSS_SELECTOR, \"div.btn_area > a._sympathyButton > strong\").text)\n",
    "            # 감상평\n",
    "            comment_text = review.find_element(By.CSS_SELECTOR, f\"#_filtered_ment_{idx}\").text\n",
    "            # 너무 길어서 하이퍼링크 처리된 감상평 전문 가져오기\n",
    "            if len(comment_text) >= 122 : \n",
    "                review.find_element(By.CSS_SELECTOR, f\"#_filtered_ment_{idx} a\").click()\n",
    "                comment_text_full = review.find_element(By.CSS_SELECTOR, f\"#_filtered_ment_{idx}\").text\n",
    "                comment.append(comment_text_full)\n",
    "            # 그럴 필요 없는 것들 가져오기\n",
    "            else : \n",
    "                comment.append(comment_text)\n",
    "            idx += 1\n",
    "\n",
    "        page += 1 \n",
    "        driver.find_element(By.CSS_SELECTOR, \"div.paging>div>a.pg_next\").click()\n",
    "        time.sleep(2) \n",
    "\n",
    "    #  셀레니움 종료\n",
    "    driver.close()\n",
    "\n",
    "    #  스크래핑한 결과를 데이터프레임 변수 result에 저장\n",
    "    result[\"score\"] = score\n",
    "    result[\"likes\"] = likes\n",
    "    result[\"comment\"] = comment\n",
    "    print(\"스크래핑 결과\\n\", result.info())\n",
    "\n",
    "    #  result를 csv파일로 저장\n",
    "    result.to_csv(f\"네이버영화크롤링_{filename}.csv\", sep=\",\", index=False, encoding=\"utf-8\")\n",
    "    print(\"저장 완료!\\n\")\n",
    "\n",
    "    # result를 리턴\n",
    "    return result"
   ]
  },
  {
   "cell_type": "code",
   "execution_count": null,
   "metadata": {
    "id": "AgqoDHPt61q4"
   },
   "outputs": [],
   "source": [
    "if __name__ == \"__main__\" :\n",
    "\n",
    "    movienms = [\n",
    "        \"범죄도시2\", \"공조2\", \"한산\",\n",
    "        \"늑대사냥\", \"외계인1부\", \"뜨거운피\"]\n",
    "\n",
    "    for movienm in movienms :\n",
    "        get_reviews(movienm, filename = f\"{movienm}\", pagenum=200)"
   ]
  }
 ],
 "metadata": {
  "colab": {
   "collapsed_sections": [],
   "provenance": [
    {
     "file_id": "/v2/external/notebooks/empty.ipynb",
     "timestamp": 1666227866046
    }
   ]
  },
  "kernelspec": {
   "display_name": "Python 3 (ipykernel)",
   "language": "python",
   "name": "python3"
  },
  "language_info": {
   "codemirror_mode": {
    "name": "ipython",
    "version": 3
   },
   "file_extension": ".py",
   "mimetype": "text/x-python",
   "name": "python",
   "nbconvert_exporter": "python",
   "pygments_lexer": "ipython3",
   "version": "3.9.12"
  }
 },
 "nbformat": 4,
 "nbformat_minor": 1
}
